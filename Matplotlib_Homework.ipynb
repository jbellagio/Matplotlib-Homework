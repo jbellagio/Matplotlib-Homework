{
 "cells": [
  {
   "cell_type": "markdown",
   "metadata": {},
   "source": [
    "## Observations and Insights"
   ]
  },
  {
   "cell_type": "markdown",
   "metadata": {},
   "source": []
  },
  {
   "cell_type": "markdown",
   "metadata": {},
   "source": [
    "## Dependencies and starter code"
   ]
  },
  {
   "cell_type": "code",
   "execution_count": 47,
   "metadata": {},
   "outputs": [],
   "source": [
    "# Dependencies and Setup\n",
    "import matplotlib.pyplot as plt\n",
    "import pandas as pd\n",
    "import scipy.stats as st\n",
    "from scipy.stats import linregress\n",
    "\n",
    "# Study data files\n",
    "mouse_metadata = \"data/Mouse_metadata.csv\"\n",
    "study_results = \"data/Study_results.csv\"\n",
    "\n",
    "# Read the mouse data and the study results\n",
    "mouse_metadata = pd.read_csv(mouse_metadata)\n",
    "study_results = pd.read_csv(study_results)\n",
    "\n",
    "# Combine the data into a single dataset\n",
    "combined_data = pd.merge(mouse_metadata, study_results, on =\"Mouse ID\", how = 'outer')\n"
   ]
  },
  {
   "cell_type": "code",
   "execution_count": 52,
   "metadata": {},
   "outputs": [
    {
     "data": {
      "text/html": [
       "<div>\n",
       "<style scoped>\n",
       "    .dataframe tbody tr th:only-of-type {\n",
       "        vertical-align: middle;\n",
       "    }\n",
       "\n",
       "    .dataframe tbody tr th {\n",
       "        vertical-align: top;\n",
       "    }\n",
       "\n",
       "    .dataframe thead th {\n",
       "        text-align: right;\n",
       "    }\n",
       "</style>\n",
       "<table border=\"1\" class=\"dataframe\">\n",
       "  <thead>\n",
       "    <tr style=\"text-align: right;\">\n",
       "      <th></th>\n",
       "      <th>Mouse ID</th>\n",
       "      <th>Drug Regimen</th>\n",
       "      <th>Sex</th>\n",
       "      <th>Age_months</th>\n",
       "      <th>Weight (g)</th>\n",
       "      <th>Timepoint</th>\n",
       "      <th>Tumor Volume (mm3)</th>\n",
       "      <th>Metastatic Sites</th>\n",
       "    </tr>\n",
       "  </thead>\n",
       "  <tbody>\n",
       "    <tr>\n",
       "      <td>0</td>\n",
       "      <td>k403</td>\n",
       "      <td>Ramicane</td>\n",
       "      <td>Male</td>\n",
       "      <td>21</td>\n",
       "      <td>16</td>\n",
       "      <td>0</td>\n",
       "      <td>45.000000</td>\n",
       "      <td>0</td>\n",
       "    </tr>\n",
       "    <tr>\n",
       "      <td>1</td>\n",
       "      <td>k403</td>\n",
       "      <td>Ramicane</td>\n",
       "      <td>Male</td>\n",
       "      <td>21</td>\n",
       "      <td>16</td>\n",
       "      <td>5</td>\n",
       "      <td>38.825898</td>\n",
       "      <td>0</td>\n",
       "    </tr>\n",
       "    <tr>\n",
       "      <td>2</td>\n",
       "      <td>k403</td>\n",
       "      <td>Ramicane</td>\n",
       "      <td>Male</td>\n",
       "      <td>21</td>\n",
       "      <td>16</td>\n",
       "      <td>10</td>\n",
       "      <td>35.014271</td>\n",
       "      <td>1</td>\n",
       "    </tr>\n",
       "    <tr>\n",
       "      <td>3</td>\n",
       "      <td>k403</td>\n",
       "      <td>Ramicane</td>\n",
       "      <td>Male</td>\n",
       "      <td>21</td>\n",
       "      <td>16</td>\n",
       "      <td>15</td>\n",
       "      <td>34.223992</td>\n",
       "      <td>1</td>\n",
       "    </tr>\n",
       "    <tr>\n",
       "      <td>4</td>\n",
       "      <td>k403</td>\n",
       "      <td>Ramicane</td>\n",
       "      <td>Male</td>\n",
       "      <td>21</td>\n",
       "      <td>16</td>\n",
       "      <td>20</td>\n",
       "      <td>32.997729</td>\n",
       "      <td>1</td>\n",
       "    </tr>\n",
       "  </tbody>\n",
       "</table>\n",
       "</div>"
      ],
      "text/plain": [
       "  Mouse ID Drug Regimen   Sex  Age_months  Weight (g)  Timepoint  \\\n",
       "0     k403     Ramicane  Male          21          16          0   \n",
       "1     k403     Ramicane  Male          21          16          5   \n",
       "2     k403     Ramicane  Male          21          16         10   \n",
       "3     k403     Ramicane  Male          21          16         15   \n",
       "4     k403     Ramicane  Male          21          16         20   \n",
       "\n",
       "   Tumor Volume (mm3)  Metastatic Sites  \n",
       "0           45.000000                 0  \n",
       "1           38.825898                 0  \n",
       "2           35.014271                 1  \n",
       "3           34.223992                 1  \n",
       "4           32.997729                 1  "
      ]
     },
     "execution_count": 52,
     "metadata": {},
     "output_type": "execute_result"
    }
   ],
   "source": [
    "combined_data.head()"
   ]
  },
  {
   "cell_type": "markdown",
   "metadata": {},
   "source": [
    "## Summary statistics"
   ]
  },
  {
   "cell_type": "code",
   "execution_count": 3,
   "metadata": {},
   "outputs": [
    {
     "data": {
      "text/plain": [
       "array(['Ramicane', 'Capomulin', 'Infubinol', 'Placebo', 'Ceftamin',\n",
       "       'Stelasyn', 'Zoniferol', 'Ketapril', 'Propriva', 'Naftisol'],\n",
       "      dtype=object)"
      ]
     },
     "execution_count": 3,
     "metadata": {},
     "output_type": "execute_result"
    }
   ],
   "source": [
    "number_regimens = combined_data[\"Drug Regimen\"].unique()\n",
    "number_regimens"
   ]
  },
  {
   "cell_type": "code",
   "execution_count": 4,
   "metadata": {},
   "outputs": [],
   "source": [
    "# Generate a summary statistics table of mean, median, variance, standard deviation, and SEM of the tumor volume for each regimen\n",
    "# mean = combined_data[\"Tumor Volume (mm3)\"].mean()\n",
    "# median = combined_data[\"Tumor Volume (mm3)\"].median()\n",
    "# variance = combined_data[\"Tumor Volume (mm3)\"].var()\n",
    "# std = combined_data[\"Tumor Volume (mm3)\"].std()\n",
    "# sem = combined_data[\"Tumor Volume (mm3)\"].sem()"
   ]
  },
  {
   "cell_type": "code",
   "execution_count": 5,
   "metadata": {},
   "outputs": [],
   "source": [
    "Ramicane = combined_data.loc[combined_data[\"Drug Regimen\"] == \"Ramicane\", :]\n",
    "Capomulin = combined_data.loc[combined_data[\"Drug Regimen\"] == \"Capomulin\", :]\n",
    "Infubinol = combined_data.loc[combined_data[\"Drug Regimen\"] == \"Infubinol\", :]\n",
    "Placebo = combined_data.loc[combined_data[\"Drug Regimen\"] == \"Placebo\", :]\n",
    "Ceftamin = combined_data.loc[combined_data[\"Drug Regimen\"] == \"Ceftamin\", :]\n",
    "Stelasyn = combined_data.loc[combined_data[\"Drug Regimen\"] == \"Stelasyn\", :]\n",
    "Zoniferol = combined_data.loc[combined_data[\"Drug Regimen\"] == \"Zoniferol\", :]\n",
    "Ketapril = combined_data.loc[combined_data[\"Drug Regimen\"] == \"Ketapril\", :]\n",
    "Propriva = combined_data.loc[combined_data[\"Drug Regimen\"] == \"Propriva\", :]\n",
    "Naftisol = combined_data.loc[combined_data[\"Drug Regimen\"] == \"Naftisol\", :]\n",
    "\n",
    "mean1 = Ramicane[\"Tumor Volume (mm3)\"].mean()\n",
    "mean2 = Naftisol[\"Tumor Volume (mm3)\"].mean()\n",
    "mean3 = Capomulin[\"Tumor Volume (mm3)\"].mean()\n",
    "mean4 = Infubinol[\"Tumor Volume (mm3)\"].mean()\n",
    "mean5 = Placebo[\"Tumor Volume (mm3)\"].mean()\n",
    "mean6 = Ceftamin[\"Tumor Volume (mm3)\"].mean()\n",
    "mean7 = Stelasyn[\"Tumor Volume (mm3)\"].mean()\n",
    "mean8 = Zoniferol[\"Tumor Volume (mm3)\"].mean()\n",
    "mean9 = Ketapril[\"Tumor Volume (mm3)\"].mean()\n",
    "mean0 = Propriva[\"Tumor Volume (mm3)\"].mean()\n",
    "\n",
    "median_1 = Ramicane[\"Tumor Volume (mm3)\"].median()\n",
    "median_2 = Naftisol[\"Tumor Volume (mm3)\"].median()\n",
    "median_3 = Capomulin[\"Tumor Volume (mm3)\"].median()\n",
    "median_4 = Infubinol[\"Tumor Volume (mm3)\"].median()\n",
    "median_5 = Placebo[\"Tumor Volume (mm3)\"].median()\n",
    "median_6 = Ceftamin[\"Tumor Volume (mm3)\"].median()\n",
    "median_7 = Stelasyn[\"Tumor Volume (mm3)\"].median()\n",
    "median_8 = Zoniferol[\"Tumor Volume (mm3)\"].median()\n",
    "median_9 = Ketapril[\"Tumor Volume (mm3)\"].median()\n",
    "median_0 = Propriva[\"Tumor Volume (mm3)\"].median()\n",
    "\n",
    "variance_1 = Ramicane[\"Tumor Volume (mm3)\"].var()\n",
    "variance_2 = Naftisol[\"Tumor Volume (mm3)\"].var()\n",
    "variance_3 = Capomulin[\"Tumor Volume (mm3)\"].var()\n",
    "variance_4 = Infubinol[\"Tumor Volume (mm3)\"].var()\n",
    "variance_5 = Placebo[\"Tumor Volume (mm3)\"].var()\n",
    "variance_6 = Ceftamin[\"Tumor Volume (mm3)\"].var()\n",
    "variance_7 = Stelasyn[\"Tumor Volume (mm3)\"].var()\n",
    "variance_8 = Zoniferol[\"Tumor Volume (mm3)\"].var()\n",
    "variance_9 = Ketapril[\"Tumor Volume (mm3)\"].var()\n",
    "variance_0 = Propriva[\"Tumor Volume (mm3)\"].var()\n",
    "\n",
    "std_1 = Ramicane[\"Tumor Volume (mm3)\"].std()\n",
    "std_2 = Naftisol[\"Tumor Volume (mm3)\"].std()\n",
    "std_3 = Capomulin[\"Tumor Volume (mm3)\"].std()\n",
    "std_4 = Infubinol[\"Tumor Volume (mm3)\"].std()\n",
    "std_5 = Placebo[\"Tumor Volume (mm3)\"].std()\n",
    "std_6 = Ceftamin[\"Tumor Volume (mm3)\"].std()\n",
    "std_7 = Stelasyn[\"Tumor Volume (mm3)\"].std()\n",
    "std_8 = Zoniferol[\"Tumor Volume (mm3)\"].std()\n",
    "std_9 = Ketapril[\"Tumor Volume (mm3)\"].std()\n",
    "std_0 = Propriva[\"Tumor Volume (mm3)\"].std()\n",
    "\n",
    "sem_1 = Ramicane[\"Tumor Volume (mm3)\"].sem()\n",
    "sem_2 = Naftisol[\"Tumor Volume (mm3)\"].sem()\n",
    "sem_3 = Capomulin[\"Tumor Volume (mm3)\"].sem()\n",
    "sem_4 = Infubinol[\"Tumor Volume (mm3)\"].sem()\n",
    "sem_5 = Placebo[\"Tumor Volume (mm3)\"].sem()\n",
    "sem_6 = Ceftamin[\"Tumor Volume (mm3)\"].sem()\n",
    "sem_7 = Stelasyn[\"Tumor Volume (mm3)\"].sem()\n",
    "sem_8 = Zoniferol[\"Tumor Volume (mm3)\"].sem()\n",
    "sem_9 = Ketapril[\"Tumor Volume (mm3)\"].sem()\n",
    "sem_0 = Propriva[\"Tumor Volume (mm3)\"].sem()\n",
    "\n",
    "\n"
   ]
  },
  {
   "cell_type": "code",
   "execution_count": 27,
   "metadata": {},
   "outputs": [],
   "source": [
    "summary_ramicane = pd.DataFrame({\"Drug Regimen\": \"Ramicane\",\n",
    "                                \"Mean\": mean1,\n",
    "                                \"Median\": median_1,\n",
    "                                \"Vairance\": variance_1,\n",
    "                                \"Standard Deviation\": std_1,\n",
    "                                \"SEM\": sem_1}, index= Ramicane[\"Mouse ID\"])\n",
    "\n",
    "summary_naftisol= pd.DataFrame({\"Drug Regimen\": \"Naftisol\",\n",
    "                                \"Mean\": mean2,\n",
    "                                \"Median\": median_2,\n",
    "                                \"Vairance\": variance_2,\n",
    "                                \"Standard Deviation\": std_2,\n",
    "                                \"SEM\": sem_2}, index= Naftisol[\"Mouse ID\"])\n",
    "\n",
    "summary_capomulin = pd.DataFrame({\"Drug Regimen\": \"Capomulin\",\n",
    "                                \"Mean\": mean3,\n",
    "                                \"Median\": median_3,\n",
    "                                \"Vairance\": variance_3,\n",
    "                                \"Standard Deviation\": std_3,\n",
    "                                 \"SEM\": sem_3}, index = Capomulin[\"Mouse ID\"])\n",
    "\n",
    "summary_infubinol = pd.DataFrame({\"Drug Regimen\": \"Infubinol\",\n",
    "                                \"Mean\": mean4,\n",
    "                                \"Median\": median_4,\n",
    "                                \"Vairance\": variance_4,\n",
    "                                \"Standard Deviation\": std_4,\n",
    "                                \"SEM\": sem_4}, index = Infubinol[\"Mouse ID\"])\n",
    "\n",
    "summary_placebo = pd.DataFrame({\"Drug Regimen\": \"Placebo\",\n",
    "                                \"Mean\": mean5,\n",
    "                                \"Median\": median_5,\n",
    "                                \"Vairance\": variance_5,\n",
    "                                \"Standard Deviation\": std_5,\n",
    "                                \"SEM\": sem_5}, index = Placebo[\"Mouse ID\"])\n",
    "\n",
    "summary_ceftamin = pd.DataFrame({\"Drug Regimen\": \"Ceftamin\",\n",
    "                                \"Mean\": mean6,\n",
    "                                \"Median\": median_6,\n",
    "                                \"Vairance\": variance_6,\n",
    "                                \"Standard Deviation\": std_6,\n",
    "                                \"SEM\": sem_6}, index = Ceftamin[\"Mouse ID\"])\n",
    "\n",
    "summary_stelasyn = pd.DataFrame({\"Drug Regimen\": \"Stelasyn\",\n",
    "                                \"Mean\": mean7,\n",
    "                                \"Median\": median_7,\n",
    "                                \"Vairance\": variance_7,\n",
    "                                \"Standard Deviation\": std_7,\n",
    "                                \"SEM\": sem_7}, index = Stelasyn[\"Mouse ID\"])\n",
    "\n",
    "summary_zoniferol = pd.DataFrame({\"Drug Regimen\": \"Zoniferol\",\n",
    "                                \"Mean\": mean8,\n",
    "                                \"Median\": median_8,\n",
    "                                \"Vairance\": variance_8,\n",
    "                                \"Standard Deviation\": std_8,\n",
    "                                 \"SEM\": sem_8}, index = Zoniferol[\"Mouse ID\"])\n",
    "\n",
    "summary_ketapril = pd.DataFrame({\"Drug Regimen\": \"Ketapril\",\n",
    "                                \"Mean\": mean9,\n",
    "                                \"Median\": median_9,\n",
    "                                \"Vairance\": variance_9,\n",
    "                                \"Standard Deviation\": std_9,\n",
    "                                \"SEM\": sem_9}, index = Ketapril[\"Mouse ID\"])\n",
    "\n",
    "summary_propriva = pd.DataFrame({\"Drug Regimen\": \"Propriva\",\n",
    "                                \"Mean\": mean0,\n",
    "                                \"Median\": median_0,\n",
    "                                \"Vairance\": variance_0,\n",
    "                                \"Standard Deviation\": std_0,\n",
    "                                \"SEM\": sem_0}, index = Propriva[\"Mouse ID\"])\n",
    "\n",
    "# \"SEM\": sem_0\n",
    "\n",
    "\n"
   ]
  },
  {
   "cell_type": "code",
   "execution_count": 28,
   "metadata": {},
   "outputs": [],
   "source": [
    "combined_summary1 = pd.merge(summary_ramicane, summary_naftisol, how = \"outer\")\n",
    "combined_2 = pd.merge(combined_summary1, summary_capomulin, how= \"outer\")\n",
    "\n",
    "combined_3 = pd.merge(combined_2, summary_infubinol, how= \"outer\")\n",
    "\n",
    "combined_4 = pd.merge(combined_3, summary_placebo, how= \"outer\")\n",
    "\n",
    "combined_5 = pd.merge(combined_4, summary_ceftamin, how= \"outer\")\n",
    "\n",
    "combined_6 = pd.merge(combined_5, summary_stelasyn, how= \"outer\")\n",
    "\n",
    "combined_7 = pd.merge(combined_6, summary_zoniferol, how= \"outer\")\n",
    "\n",
    "combined_8 = pd.merge(combined_7, summary_ketapril, how= \"outer\")\n",
    "\n",
    "final_data = pd.merge(combined_8, summary_propriva, how= \"outer\")\n"
   ]
  },
  {
   "cell_type": "code",
   "execution_count": 29,
   "metadata": {},
   "outputs": [
    {
     "data": {
      "text/html": [
       "<div>\n",
       "<style scoped>\n",
       "    .dataframe tbody tr th:only-of-type {\n",
       "        vertical-align: middle;\n",
       "    }\n",
       "\n",
       "    .dataframe tbody tr th {\n",
       "        vertical-align: top;\n",
       "    }\n",
       "\n",
       "    .dataframe thead th {\n",
       "        text-align: right;\n",
       "    }\n",
       "</style>\n",
       "<table border=\"1\" class=\"dataframe\">\n",
       "  <thead>\n",
       "    <tr style=\"text-align: right;\">\n",
       "      <th></th>\n",
       "      <th>Drug Regimen</th>\n",
       "      <th>Mean</th>\n",
       "      <th>Median</th>\n",
       "      <th>Vairance</th>\n",
       "      <th>Standard Deviation</th>\n",
       "      <th>SEM</th>\n",
       "    </tr>\n",
       "  </thead>\n",
       "  <tbody>\n",
       "    <tr>\n",
       "      <td>0</td>\n",
       "      <td>Ramicane</td>\n",
       "      <td>40.216745</td>\n",
       "      <td>40.673236</td>\n",
       "      <td>23.486704</td>\n",
       "      <td>4.846308</td>\n",
       "      <td>0.320955</td>\n",
       "    </tr>\n",
       "    <tr>\n",
       "      <td>228</td>\n",
       "      <td>Naftisol</td>\n",
       "      <td>54.331565</td>\n",
       "      <td>52.509285</td>\n",
       "      <td>66.173479</td>\n",
       "      <td>8.134708</td>\n",
       "      <td>0.596466</td>\n",
       "    </tr>\n",
       "    <tr>\n",
       "      <td>414</td>\n",
       "      <td>Capomulin</td>\n",
       "      <td>40.675741</td>\n",
       "      <td>41.557809</td>\n",
       "      <td>24.947764</td>\n",
       "      <td>4.994774</td>\n",
       "      <td>0.329346</td>\n",
       "    </tr>\n",
       "    <tr>\n",
       "      <td>644</td>\n",
       "      <td>Infubinol</td>\n",
       "      <td>52.884795</td>\n",
       "      <td>51.820584</td>\n",
       "      <td>43.128684</td>\n",
       "      <td>6.567243</td>\n",
       "      <td>0.492236</td>\n",
       "    </tr>\n",
       "    <tr>\n",
       "      <td>822</td>\n",
       "      <td>Placebo</td>\n",
       "      <td>54.033581</td>\n",
       "      <td>52.288934</td>\n",
       "      <td>61.168083</td>\n",
       "      <td>7.821003</td>\n",
       "      <td>0.581331</td>\n",
       "    </tr>\n",
       "    <tr>\n",
       "      <td>1003</td>\n",
       "      <td>Ceftamin</td>\n",
       "      <td>52.591172</td>\n",
       "      <td>51.776157</td>\n",
       "      <td>39.290177</td>\n",
       "      <td>6.268188</td>\n",
       "      <td>0.469821</td>\n",
       "    </tr>\n",
       "    <tr>\n",
       "      <td>1181</td>\n",
       "      <td>Stelasyn</td>\n",
       "      <td>54.233149</td>\n",
       "      <td>52.431737</td>\n",
       "      <td>59.450562</td>\n",
       "      <td>7.710419</td>\n",
       "      <td>0.573111</td>\n",
       "    </tr>\n",
       "    <tr>\n",
       "      <td>1362</td>\n",
       "      <td>Zoniferol</td>\n",
       "      <td>53.236507</td>\n",
       "      <td>51.818479</td>\n",
       "      <td>48.533355</td>\n",
       "      <td>6.966589</td>\n",
       "      <td>0.516398</td>\n",
       "    </tr>\n",
       "    <tr>\n",
       "      <td>1544</td>\n",
       "      <td>Ketapril</td>\n",
       "      <td>55.235638</td>\n",
       "      <td>53.698743</td>\n",
       "      <td>68.553577</td>\n",
       "      <td>8.279709</td>\n",
       "      <td>0.603860</td>\n",
       "    </tr>\n",
       "    <tr>\n",
       "      <td>1732</td>\n",
       "      <td>Propriva</td>\n",
       "      <td>52.322552</td>\n",
       "      <td>50.854632</td>\n",
       "      <td>42.351070</td>\n",
       "      <td>6.507770</td>\n",
       "      <td>0.512884</td>\n",
       "    </tr>\n",
       "  </tbody>\n",
       "</table>\n",
       "</div>"
      ],
      "text/plain": [
       "     Drug Regimen       Mean     Median   Vairance  Standard Deviation  \\\n",
       "0        Ramicane  40.216745  40.673236  23.486704            4.846308   \n",
       "228      Naftisol  54.331565  52.509285  66.173479            8.134708   \n",
       "414     Capomulin  40.675741  41.557809  24.947764            4.994774   \n",
       "644     Infubinol  52.884795  51.820584  43.128684            6.567243   \n",
       "822       Placebo  54.033581  52.288934  61.168083            7.821003   \n",
       "1003     Ceftamin  52.591172  51.776157  39.290177            6.268188   \n",
       "1181     Stelasyn  54.233149  52.431737  59.450562            7.710419   \n",
       "1362    Zoniferol  53.236507  51.818479  48.533355            6.966589   \n",
       "1544     Ketapril  55.235638  53.698743  68.553577            8.279709   \n",
       "1732     Propriva  52.322552  50.854632  42.351070            6.507770   \n",
       "\n",
       "           SEM  \n",
       "0     0.320955  \n",
       "228   0.596466  \n",
       "414   0.329346  \n",
       "644   0.492236  \n",
       "822   0.581331  \n",
       "1003  0.469821  \n",
       "1181  0.573111  \n",
       "1362  0.516398  \n",
       "1544  0.603860  \n",
       "1732  0.512884  "
      ]
     },
     "execution_count": 29,
     "metadata": {},
     "output_type": "execute_result"
    }
   ],
   "source": [
    "drop_duplicates = final_data.drop_duplicates()\n",
    "drop_duplicates.head(10)"
   ]
  },
  {
   "cell_type": "markdown",
   "metadata": {},
   "source": [
    "## Bar plots"
   ]
  },
  {
   "cell_type": "code",
   "execution_count": 9,
   "metadata": {},
   "outputs": [
    {
     "data": {
      "text/plain": [
       "[228, 186, 230, 178, 181, 178, 181, 182, 188, 161]"
      ]
     },
     "execution_count": 9,
     "metadata": {},
     "output_type": "execute_result"
    }
   ],
   "source": [
    "data_points1 = len(summary_ramicane)\n",
    "data_points2 = len(summary_naftisol)\n",
    "data_points3 = len(summary_capomulin)\n",
    "data_points4 = len(summary_infubinol)\n",
    "data_points5 = len(summary_placebo)\n",
    "data_points6= len(summary_ceftamin)\n",
    "data_points7 = len(summary_stelasyn)\n",
    "data_points8 = len(summary_zoniferol)\n",
    "data_points9 = len(summary_ketapril)\n",
    "data_points0 = len(summary_propriva)\n",
    "\n",
    "treatment_numbers = [data_points1,\n",
    "                     data_points2,\n",
    "                     data_points3,\n",
    "                     data_points4,\n",
    "                     data_points5,\n",
    "                     data_points6,\n",
    "                     data_points7,\n",
    "                     data_points8,\n",
    "                     data_points9,\n",
    "                    data_points0]\n",
    "treatment_numbers"
   ]
  },
  {
   "cell_type": "code",
   "execution_count": 10,
   "metadata": {},
   "outputs": [
    {
     "data": {
      "text/plain": [
       "<matplotlib.axes._subplots.AxesSubplot at 0x1f200330688>"
      ]
     },
     "execution_count": 10,
     "metadata": {},
     "output_type": "execute_result"
    },
    {
     "data": {
      "image/png": "[encoded data removed]",
      "text/plain": [
       "<Figure size 432x288 with 1 Axes>"
      ]
     },
     "metadata": {
      "needs_background": "light"
     },
     "output_type": "display_data"
    }
   ],
   "source": [
    "# Generate a bar plot showing number of data points for each treatment regimen using pandas\n",
    "\n",
    "\n",
    "\n",
    "fig, ax =  plt.subplots()\n",
    "\n",
    "df = pd.DataFrame({\"x\": drop_duplicates[\"Drug Regimen\"], \"y\": treatment_numbers})\n",
    "\n",
    "df.plot.bar(x= \"x\", y = \"y\" , ax=ax, color=\"blue\", alpha=1)\n"
   ]
  },
  {
   "cell_type": "code",
   "execution_count": 11,
   "metadata": {},
   "outputs": [
    {
     "data": {
      "text/plain": [
       "([0, 1, 2, 3, 4, 5, 6, 7, 8, 9], <a list of 10 Text xticklabel objects>)"
      ]
     },
     "execution_count": 11,
     "metadata": {},
     "output_type": "execute_result"
    },
    {
     "data": {
      "image/png": "[encoded data removed]",
      "text/plain": [
       "<Figure size 432x288 with 1 Axes>"
      ]
     },
     "metadata": {
      "needs_background": "light"
     },
     "output_type": "display_data"
    }
   ],
   "source": [
    "# Generate a bar plot showing number of data points for each treatment regimen using pyplot\n",
    "\n",
    "plt.bar(drop_duplicates[\"Drug Regimen\"], treatment_numbers, color = 'r', alpha = 1, align = \"center\")\n",
    "\n",
    "plt.xticks(rotation = 45)\n"
   ]
  },
  {
   "cell_type": "markdown",
   "metadata": {},
   "source": [
    "## Pie plots"
   ]
  },
  {
   "cell_type": "code",
   "execution_count": 12,
   "metadata": {},
   "outputs": [
    {
     "data": {
      "text/plain": [
       "Sex\n",
       "Female    935\n",
       "Male      958\n",
       "Name: Sex, dtype: int64"
      ]
     },
     "execution_count": 12,
     "metadata": {},
     "output_type": "execute_result"
    }
   ],
   "source": [
    "gender_data = combined_data.groupby([\"Sex\"])\n",
    "gender_data[\"Sex\"].count()"
   ]
  },
  {
   "cell_type": "code",
   "execution_count": 13,
   "metadata": {},
   "outputs": [
    {
     "data": {
      "text/plain": [
       "Text(0, 0.5, '')"
      ]
     },
     "execution_count": 13,
     "metadata": {},
     "output_type": "execute_result"
    },
    {
     "data": {
      "image/png": "[encoded data removed]",
      "text/plain": [
       "<Figure size 432x288 with 1 Axes>"
      ]
     },
     "metadata": {},
     "output_type": "display_data"
    }
   ],
   "source": [
    "# Generate a pie plot showing the distribution of female versus male mice using pandas\n",
    "\n",
    "\n",
    "labels = [\"Male\", \"Female\"]\n",
    "number_sex = [958, 935]\n",
    "colors = [\"red\", \"blue\"]\n",
    "explode = (.1,0)\n",
    "\n",
    "fig, ax = plt.subplots()\n",
    "\n",
    "df_1 = pd.DataFrame({\n",
    "    \"number_sex\": number_sex,\n",
    "    \"labels\":labels\n",
    "})\n",
    "\n",
    "df_1.plot.pie(y= \"number_sex\", explode=explode, labels=labels, colors=colors,\n",
    "        autopct=\"%1.1f%%\", shadow=True, startangle=90, legend=False, ax=ax)\n",
    "\n",
    "ax.set_ylabel(\"\")"
   ]
  },
  {
   "cell_type": "code",
   "execution_count": 14,
   "metadata": {},
   "outputs": [
    {
     "data": {
      "text/plain": [
       "([<matplotlib.patches.Wedge at 0x1f2017beb08>,\n",
       "  <matplotlib.patches.Wedge at 0x1f2017ca648>],\n",
       " [Text(-1.1997814585120492, -0.02290091287918403, 'Male'),\n",
       "  Text(1.0997996703027118, 0.020992503472585713, 'Female')],\n",
       " [Text(-0.699872517465362, -0.013358865846190685, '50.6%'),\n",
       "  Text(0.5998907292560246, 0.011450456439592206, '49.4%')])"
      ]
     },
     "execution_count": 14,
     "metadata": {},
     "output_type": "execute_result"
    },
    {
     "data": {
      "image/png": "[encoded data removed]",
      "text/plain": [
       "<Figure size 432x288 with 1 Axes>"
      ]
     },
     "metadata": {},
     "output_type": "display_data"
    }
   ],
   "source": [
    "# Generate a pie plot showing the distribution of female versus male mice using pyplot\n",
    "\n",
    "plt.pie(number_sex, explode = explode, labels=labels,colors=colors, autopct=\"%1.1f%%\", shadow=True, startangle=90 )"
   ]
  },
  {
   "cell_type": "markdown",
   "metadata": {},
   "source": [
    "## Quartiles, outliers and boxplots"
   ]
  },
  {
   "cell_type": "code",
   "execution_count": 76,
   "metadata": {},
   "outputs": [
    {
     "name": "stdout",
     "output_type": "stream",
     "text": [
      "The lower quartile of Ramicane is: 36.67463458499999\n",
      "The upper quartile of Ramicane is: 45.0\n",
      "The interquartile range of Ramicane is: 8.325365415000007\n",
      "Values below 24.18658646249998 could be outliers.\n",
      "Values above 57.48804812250001 could be outliers.\n"
     ]
    }
   ],
   "source": [
    "# Calculate the final tumor volume of each mouse across four of the most promising treatment regimens. Calculate the IQR and quantitatively determine if there are any potential outliers.\n",
    "# ramicane, capomulin, propriva, ceftamin\n",
    "\n",
    "final_volumes = Ramicane[\"Tumor Volume (mm3)\"]\n",
    "\n",
    "quartiles_rami = final_volumes.quantile([.25,.5,.75])\n",
    "lowerq_rami = quartiles_rami[.25]\n",
    "upperq_rami = quartiles_rami[.75]\n",
    "iqr_rami = upperq_rami - lowerq_rami\n",
    "lower_bound_rami = lowerq_rami - (1.5 * iqr_rami)\n",
    "upper_bound_rami = upperq_rami + (1.5 * iqr_rami)\n",
    "\n",
    "print(f\"The lower quartile of Ramicane is: {lowerq_rami}\")\n",
    "print(f\"The upper quartile of Ramicane is: {upperq_rami}\")\n",
    "print(f\"The interquartile range of Ramicane is: {iqr_rami}\")\n",
    "print(f\"Values below {lower_bound_rami} could be outliers.\")\n",
    "print(f\"Values above {upper_bound_rami} could be outliers.\")\n"
   ]
  },
  {
   "cell_type": "code",
   "execution_count": 77,
   "metadata": {},
   "outputs": [
    {
     "name": "stdout",
     "output_type": "stream",
     "text": [
      "The lower quartile of Capomulin is: 36.67463458499999\n",
      "The upper quartile of Capomulin is: 45.0\n",
      "The interquartile range of Capomulin is: 8.325365415000007\n",
      "Values below 24.18658646249998 could be outliers.\n",
      "Values above 57.48804812250001 could be outliers.\n"
     ]
    }
   ],
   "source": [
    "final_volumes1 = Capomulin[\"Tumor Volume (mm3)\"]\n",
    "\n",
    "quartiles_cap = final_volumes.quantile([.25,.5,.75])\n",
    "lowerq_cap = quartiles_cap[.25]\n",
    "upperq_cap = quartiles_cap[.75]\n",
    "iqr_cap = upperq_cap - lowerq_cap\n",
    "lower_bound_cap = lowerq_cap - (1.5 * iqr_cap)\n",
    "upper_bound_cap = upperq_cap + (1.5 * iqr_cap)\n",
    "\n",
    "print(f\"The lower quartile of Capomulin is: {lowerq_cap}\")\n",
    "print(f\"The upper quartile of Capomulin is: {upperq_cap}\")\n",
    "print(f\"The interquartile range of Capomulin is: {iqr_cap}\")\n",
    "print(f\"Values below {lower_bound_cap} could be outliers.\")\n",
    "print(f\"Values above {upper_bound_cap} could be outliers.\")"
   ]
  },
  {
   "cell_type": "code",
   "execution_count": 78,
   "metadata": {},
   "outputs": [
    {
     "name": "stdout",
     "output_type": "stream",
     "text": [
      "The lower quartile of Propriva is: 36.67463458499999\n",
      "The upper quartile of Propriva is: 45.0\n",
      "The interquartile range of Propriva is: 8.325365415000007\n",
      "Values below 24.18658646249998 could be outliers.\n",
      "Values above 57.48804812250001 could be outliers.\n"
     ]
    }
   ],
   "source": [
    "final_volumes2 = Propriva[\"Tumor Volume (mm3)\"]\n",
    "\n",
    "quartiles_pro = final_volumes.quantile([.25,.5,.75])\n",
    "lowerq_pro = quartiles_pro[.25]\n",
    "upperq_pro = quartiles_pro[.75]\n",
    "iqr_pro = upperq_pro - lowerq_pro\n",
    "lower_bound_pro = lowerq_pro - (1.5 * iqr_pro)\n",
    "upper_bound_pro = upperq_pro + (1.5 * iqr_pro)\n",
    "\n",
    "print(f\"The lower quartile of Propriva is: {lowerq_pro}\")\n",
    "print(f\"The upper quartile of Propriva is: {upperq_pro}\")\n",
    "print(f\"The interquartile range of Propriva is: {iqr_pro}\")\n",
    "print(f\"Values below {lower_bound_pro} could be outliers.\")\n",
    "print(f\"Values above {upper_bound_pro} could be outliers.\")"
   ]
  },
  {
   "cell_type": "code",
   "execution_count": 79,
   "metadata": {},
   "outputs": [
    {
     "name": "stdout",
     "output_type": "stream",
     "text": [
      "The lower quartile of Ceftamin is: 36.67463458499999\n",
      "The upper quartile of Ceftamin is: 45.0\n",
      "The interquartile range of Ceftamin is: 8.325365415000007\n",
      "Values below 24.18658646249998 could be outliers.\n",
      "Values above 57.48804812250001 could be outliers.\n"
     ]
    }
   ],
   "source": [
    "final_volumes3 = Ceftamin[\"Tumor Volume (mm3)\"]\n",
    "\n",
    "quartiles_ceft = final_volumes.quantile([.25,.5,.75])\n",
    "lowerq_ceft = quartiles_ceft[.25]\n",
    "upperq_ceft = quartiles_ceft[.75]\n",
    "iqr_ceft = upperq_ceft - lowerq_ceft\n",
    "lower_bound_ceft = lowerq_ceft - (1.5 * iqr_ceft)\n",
    "upper_bound_ceft = upperq_ceft + (1.5 * iqr_ceft)\n",
    "\n",
    "print(f\"The lower quartile of Ceftamin is: {lowerq_ceft}\")\n",
    "print(f\"The upper quartile of Ceftamin is: {upperq_ceft}\")\n",
    "print(f\"The interquartile range of Ceftamin is: {iqr_ceft}\")\n",
    "print(f\"Values below {lower_bound_ceft} could be outliers.\")\n",
    "print(f\"Values above {upper_bound_ceft} could be outliers.\")"
   ]
  },
  {
   "cell_type": "code",
   "execution_count": 83,
   "metadata": {},
   "outputs": [
    {
     "data": {
      "image/png": "[encoded data removed]",
      "text/plain": [
       "<Figure size 432x288 with 1 Axes>"
      ]
     },
     "metadata": {
      "needs_background": "light"
     },
     "output_type": "display_data"
    },
    {
     "data": {
      "image/png": "[encoded data removed]",
      "text/plain": [
       "<Figure size 432x288 with 1 Axes>"
      ]
     },
     "metadata": {
      "needs_background": "light"
     },
     "output_type": "display_data"
    },
    {
     "data": {
      "image/png": "[encoded data removed]",
      "text/plain": [
       "<Figure size 432x288 with 1 Axes>"
      ]
     },
     "metadata": {
      "needs_background": "light"
     },
     "output_type": "display_data"
    },
    {
     "data": {
      "image/png": "[encoded data removed]",
      "text/plain": [
       "<Figure size 432x288 with 1 Axes>"
      ]
     },
     "metadata": {
      "needs_background": "light"
     },
     "output_type": "display_data"
    }
   ],
   "source": [
    "# Generate a box plot of the final tumor volume of each mouse across four regimens of interest\n",
    "fig1, ax1 = plt.subplots()\n",
    "ax1.boxplot(final_volumes)\n",
    "\n",
    "fig2, ax2 = plt.subplots()\n",
    "ax2.boxplot(final_volumes1)\n",
    "\n",
    "fig3, ax3 = plt.subplots()\n",
    "ax3.boxplot(final_volumes2)\n",
    "\n",
    "fig4, ax4 = plt.subplots()\n",
    "ax4.boxplot(final_volumes3)\n",
    "\n",
    "ax1.set_title('Ramicane Treatment')\n",
    "ax2.set_title('Capomulin Treatment')\n",
    "ax3.set_title('Propriva Treatment')\n",
    "ax4.set_title('Ceftamin Treatment')\n",
    "\n",
    "ax1.set_ylabel('Tumor Volume (mm3)')\n",
    "ax2.set_ylabel('Tumor Volume (mm3)')\n",
    "ax3.set_ylabel('Tumor Volume (mm3)')\n",
    "ax4.set_ylabel('Tumor Volume (mm3)')\n",
    "\n",
    "plt.show()"
   ]
  },
  {
   "cell_type": "markdown",
   "metadata": {},
   "source": [
    "## Line and scatter plots"
   ]
  },
  {
   "cell_type": "code",
   "execution_count": 36,
   "metadata": {},
   "outputs": [
    {
     "data": {
      "text/plain": [
       "<matplotlib.axes._subplots.AxesSubplot at 0x1f201d7f748>"
      ]
     },
     "execution_count": 36,
     "metadata": {},
     "output_type": "execute_result"
    },
    {
     "data": {
      "image/png": "[encoded data removed]",
      "text/plain": [
       "<Figure size 432x288 with 1 Axes>"
      ]
     },
     "metadata": {
      "needs_background": "light"
     },
     "output_type": "display_data"
    }
   ],
   "source": [
    "# Generate a line plot of time point versus tumor volume for a mouse treated with Capomulin\n",
    "Timepoint = [0, 5, 10, 15, 20, 25, 30, 35, 40, 45]\n",
    "tumor_size = [45, 43.878496, 37.614948, 38.177232, 36.866876, 33.949940, 32.959671, 28.328531, 25.472143, 23.343598]\n",
    "\n",
    "\n",
    "fig, ax = plt.subplots()\n",
    "\n",
    "df_2 = pd.DataFrame({\"x\": Timepoint, \"y\": tumor_size})\n",
    "df_2.plot.line(x = \"x\", y = \"y\", ax=ax, color = \"red\")\n",
    "\n",
    "\n"
   ]
  },
  {
   "cell_type": "code",
   "execution_count": 45,
   "metadata": {},
   "outputs": [
    {
     "data": {
      "text/plain": [
       "<matplotlib.collections.PathCollection at 0x1f202018708>"
      ]
     },
     "execution_count": 45,
     "metadata": {},
     "output_type": "execute_result"
    },
    {
     "data": {
      "image/png": "[encoded data removed]",
      "text/plain": [
       "<Figure size 432x288 with 1 Axes>"
      ]
     },
     "metadata": {
      "needs_background": "light"
     },
     "output_type": "display_data"
    }
   ],
   "source": [
    "# Generate a scatter plot of mouse weight versus average tumor volume for the Capomulin regimen\n",
    "\n",
    "x_axis = Capomulin[\"Weight (g)\"]\n",
    "y_axis = Capomulin[\"Tumor Volume (mm3)\"]\n",
    "\n",
    "plt.scatter(x_axis, y_axis, marker=\"o\", facecolors =\"red\", edgecolors=\"black\",s=x_axis, alpha=.75)\n",
    "\n"
   ]
  },
  {
   "cell_type": "code",
   "execution_count": 51,
   "metadata": {},
   "outputs": [
    {
     "data": {
      "text/plain": [
       "Text(6, 10, 'y = 0.96x +21.49')"
      ]
     },
     "execution_count": 51,
     "metadata": {},
     "output_type": "execute_result"
    },
    {
     "data": {
      "image/png": "[encoded data removed]",
      "text/plain": [
       "<Figure size 432x288 with 1 Axes>"
      ]
     },
     "metadata": {
      "needs_background": "light"
     },
     "output_type": "display_data"
    }
   ],
   "source": [
    "# Calculate the correlation coefficient and linear regression model for mouse weight and average tumor volume for the Capomulin regimen\n",
    "\n",
    "(slope,intercept,rvalue,pvalue,stderr) = linregress(x_axis, y_axis)\n",
    "regress_values = x_axis * slope +intercept\n",
    "\n",
    "line_eq = \"y = \" +str(round(slope,2)) +\"x +\" +str(round(intercept,2))\n",
    "\n",
    "plt.scatter(x_axis, y_axis)\n",
    "plt.plot(x_axis, regress_values, \"r-\")\n",
    "plt.annotate(line_eq, (6, 10), fontsize = 15, color = \"red\")"
   ]
  },
  {
   "cell_type": "raw",
   "metadata": {},
   "source": [
    "One observation I had when analyzing this data was that the two most effective drug regimens had the most data points. I found this to be interesting because it shows that this information was used in designing this experiment, and that the future of the treatment is, potentially, with those two drugs. A second observation that I had was the top four most effective drugs had several outliers within the data. This was interesting to me because these outliers might have skewed the data in their favor, and they might not be included in the top four when considering this. The final observation I had was when I plotted the linear regression model. I noticed that as the volume of the tumor increased, the weight increased as well, which is to be expected."
   ]
  },
  {
   "cell_type": "code",
   "execution_count": null,
   "metadata": {},
   "outputs": [],
   "source": []
  }
 ],
 "metadata": {
  "anaconda-cloud": {},
  "kernelspec": {
   "display_name": "Python 3",
   "language": "python",
   "name": "python3"
  },
  "language_info": {
   "codemirror_mode": {
    "name": "ipython",
    "version": 3
   },
   "file_extension": ".py",
   "mimetype": "text/x-python",
   "name": "python",
   "nbconvert_exporter": "python",
   "pygments_lexer": "ipython3",
   "version": "3.7.4"
  }
 },
 "nbformat": 4,
 "nbformat_minor": 2
}
